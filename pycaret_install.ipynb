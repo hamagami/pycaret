{
  "nbformat": 4,
  "nbformat_minor": 0,
  "metadata": {
    "colab": {
      "provenance": [],
      "authorship_tag": "ABX9TyO9wn0EKxCwNrHft0wxE++N",
      "include_colab_link": true
    },
    "kernelspec": {
      "name": "python3",
      "display_name": "Python 3"
    },
    "language_info": {
      "name": "python"
    }
  },
  "cells": [
    {
      "cell_type": "markdown",
      "metadata": {
        "id": "view-in-github",
        "colab_type": "text"
      },
      "source": [
        "<a href=\"https://colab.research.google.com/github/hamagami/pycaret/blob/main/pycaret_install.ipynb\" target=\"_parent\"><img src=\"https://colab.research.google.com/assets/colab-badge.svg\" alt=\"Open In Colab\"/></a>"
      ]
    },
    {
      "cell_type": "markdown",
      "source": [
        "# PyCaret testpage"
      ],
      "metadata": {
        "id": "Ctigd2zJdS-S"
      }
    },
    {
      "cell_type": "markdown",
      "source": [
        "このノートブックでは，pycaretをインストールする手順を紹介します。\n",
        "google colabであれば 1行でインストールできます。他のライブラリとの関係でエラーが数行でることがありますが，この演習を行う上では問題ないので無視してください。\n",
        "**各セルの実行は，セル左側の横向き△のボタンを押すか，セルが選択された状態でShiftキーを押しながらEnterを押す**ことで実行できます。**初回の実行は「警告: このノートブックは Google が作成したものではありません。」と出ますが，OKとしてください。**実行すると次のセルに自動的に移ります。\n",
        "PyCaretのインストールの他，データのダウンロードやグラフ描画のテストも行います。ここのコードが正常に動けば，他のデモプログラムも問題なく動かすことができるはずです。\n",
        "\n",
        "In this notebook, you will show you how to install pycaret.\n",
        "If you use google colab, you can install pycaret in one line. You may see a few error lines due to other libraries, but please ignore them as they are not a problem for this exercise.\n",
        "**To execute each cell, press the horizontal △ button on the left side of the cell, or hold down the Shift key and press Enter** while the cell is selected. **The first time you run it, you will get a \"Warning: This notebook was not created by Google. but you should be OK with that. **Run it and you will automatically move on to the next cell.\n",
        "In addition to installing PyCaret, download the data and test the graph plotting. If the code here works correctly, you should be able to run the other demo programs without any problems."
      ],
      "metadata": {
        "id": "OdA2nr73dd7x"
      }
    },
    {
      "cell_type": "code",
      "execution_count": null,
      "metadata": {
        "id": "g6V8_ORIdSBk"
      },
      "outputs": [],
      "source": [
        "!pip install -q pycaret"
      ]
    },
    {
      "cell_type": "markdown",
      "source": [
        "pycaret をimport することで　pycaretの様々な機能が使えるようになります。\n",
        "\n",
        "By importing pycaret, you can use various functions of pycaret."
      ],
      "metadata": {
        "id": "SDncKV1TewyR"
      }
    },
    {
      "cell_type": "code",
      "source": [
        "import pycaret"
      ],
      "metadata": {
        "id": "SBZyDuuQdsv1"
      },
      "execution_count": null,
      "outputs": []
    },
    {
      "cell_type": "markdown",
      "source": [
        "バージョンの確認をしておきます。3.x.xがでてくれば正常です。\n",
        "\n",
        "Check the version of the software. is it is 3.x.x, that is no-problem."
      ],
      "metadata": {
        "id": "srP72Ip5fg4w"
      }
    },
    {
      "cell_type": "code",
      "source": [
        "print(pycaret.__version__)"
      ],
      "metadata": {
        "id": "jTLFgwg8fgil"
      },
      "execution_count": null,
      "outputs": []
    },
    {
      "cell_type": "markdown",
      "source": [
        "そのほか，データのダウンロード，グラフ，画像表示のテスト\n",
        "\n",
        "Other tests include data download, graph, and image display."
      ],
      "metadata": {
        "id": "Z6eO1EUG0cs9"
      }
    },
    {
      "cell_type": "code",
      "source": [
        "import numpy as np\n",
        "import matplotlib.pyplot as plt\n"
      ],
      "metadata": {
        "id": "mT9qGtld0EHB"
      },
      "execution_count": null,
      "outputs": []
    },
    {
      "cell_type": "code",
      "source": [
        "!wget https://dl.dropbox.com/s/xqpcpncceajkjkj/2016-06-14_Orange_and_white_tabby_cat_born_in_2016_%E8%8C%B6%E3%83%88%E3%83%A9%E7%99%BD%E3%81%AD%E3%81%93_DSCF6526%E2%98%86%E5%BD%A1.jpg\n",
        "!wget \"www.dropbox.com/s/x3fmb9mxr4xkip3/qtdbsel102.txt\""
      ],
      "metadata": {
        "id": "PNf5xNzL0We3"
      },
      "execution_count": null,
      "outputs": []
    },
    {
      "cell_type": "code",
      "source": [
        "dnum=1000\n",
        "mean = np.array([0, 0]) # 平均\n",
        "cov = np.array([[1, 0.7],[0.7, 2]]) # 共分散行列\n",
        "x, y = np.random.multivariate_normal(mean, cov, dnum).T #多変量正規分布に従う乱数を生成\n",
        "plt.xlim(-5,5)\n",
        "plt.ylim(-5,5)\n",
        "plt.plot(x,y,\"x\")\n",
        "plt.show()"
      ],
      "metadata": {
        "id": "HksTmPp10XGg"
      },
      "execution_count": null,
      "outputs": []
    },
    {
      "cell_type": "code",
      "source": [
        "data = np.loadtxt(\"qtdbsel102.txt\",delimiter=\"\\t\")\n",
        "plt.plot(data[:3000,2])\n",
        "plt.show()\n",
        "img=plt.imread('2016-06-14_Orange_and_white_tabby_cat_born_in_2016_茶トラ白ねこ_DSCF6526☆彡.jpg')\n",
        "plt.imshow(img)\n",
        "plt.show()"
      ],
      "metadata": {
        "id": "e0vZNrEz0b03"
      },
      "execution_count": null,
      "outputs": []
    },
    {
      "cell_type": "markdown",
      "source": [
        "\n",
        "\n",
        "---\n",
        "\n",
        "\n",
        "\n",
        "---\n",
        "\n",
        "\n",
        "# 注意　ここから下は試す必要はありません。今後，自分でいろいろ試したいときに参考にしてください\n",
        "\n",
        "# Note: You do not need to try anything from here on down. Please refer to it when you want to try various things by yourself in the future."
      ],
      "metadata": {
        "id": "GZiilg_ogDkp"
      }
    },
    {
      "cell_type": "markdown",
      "source": [
        "上記でインストールしたpycaretは，このノートブックだけで有効です。別のノートブックを開いた場合や，いったんこのノートブックを閉じたあと再度読み込んだ場合はもう１度インストールする必要があります。\n",
        "永続的にpycaretを使うためには，GoogleDriveをマウントしてそこにpycaretをインストールをします。下記のコードを実行することで可能になります。\n",
        "ただし，GoogleDriveへのインストールはやや時間がかかることと，うまく実行できないことがあるため，この演習では簡単のため，ノートブックごとに都度インストールすることにします。\n",
        "\n",
        "The pycaret installed above is valid only for this notebook instance. If you open another notebook or close this notebook and load it again, you will need to install it again.\n",
        "To use pycaret permanently, mount GoogleDrive and install pycaret there. This can be done by executing the following code.\n",
        "However, installing to GoogleDrive is rather time-consuming and may not be executed properly, so for the sake of simplicity in this exercise, we will install each time for each notebook."
      ],
      "metadata": {
        "id": "F65LYOK7gFzc"
      }
    },
    {
      "cell_type": "code",
      "source": [
        "# google drive に接続(マウント）します。gmailに確認メールが届くことがあります。\n",
        "# Connect to (mount) google drive. you may receive a confirmation email in your gmail.\n",
        "from google.colab import drive\n",
        "drive.mount('/content/drive')"
      ],
      "metadata": {
        "id": "0RcVH9EgiWWi"
      },
      "execution_count": null,
      "outputs": []
    },
    {
      "cell_type": "code",
      "source": [
        "# 接続したgoogle driveにpycaret をインストールします。これは１回だけ行えばいいです\n",
        "# Install pycaret on the connected google drive. This only needs to be done once.\n",
        "!pip install --target /content/drive/MyDrive/Colab\\ Notebooks/my-modules pycaret"
      ],
      "metadata": {
        "id": "vdfG8qZjhktz"
      },
      "execution_count": null,
      "outputs": []
    },
    {
      "cell_type": "markdown",
      "source": [
        "既にgoogledriveにインストールが終わっていれば，マウント後，パスを設定することで，googledriveにインストール済のパッケージをimportできるようになります。\n",
        "\n",
        "If googledrive has already been installed, you can import packages already installed on googledrive by setting the path after mounting."
      ],
      "metadata": {
        "id": "yYwsxRv2wcDZ"
      }
    },
    {
      "cell_type": "code",
      "source": [
        "# google drive に接続(マウント）します。\n",
        "Connect to (mount) google drive.\n",
        "from google.colab import drive\n",
        "drive.mount('/content/drive')\n",
        "# pathを設定します\n",
        "# Set the path\n",
        "import sys\n",
        "sys.path.append('/content/drive/MyDrive/Colab Notebooks/LocalModule')"
      ],
      "metadata": {
        "id": "ZRzw7Zs8wYhQ"
      },
      "execution_count": null,
      "outputs": []
    },
    {
      "cell_type": "code",
      "source": [
        "import pycaret"
      ],
      "metadata": {
        "id": "7kw_1DrWiSA2"
      },
      "execution_count": null,
      "outputs": []
    },
    {
      "cell_type": "code",
      "source": [
        "pycaret.__version__"
      ],
      "metadata": {
        "id": "vPelz7LDvJbO"
      },
      "execution_count": null,
      "outputs": []
    },
    {
      "cell_type": "code",
      "source": [],
      "metadata": {
        "id": "jWMwxVUVv2s9"
      },
      "execution_count": null,
      "outputs": []
    }
  ]
}