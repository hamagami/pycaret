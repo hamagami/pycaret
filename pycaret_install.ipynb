{
  "nbformat": 4,
  "nbformat_minor": 0,
  "metadata": {
    "colab": {
      "provenance": [],
      "authorship_tag": "ABX9TyN8LxGxXCTf1ePM2fkTXUhf",
      "include_colab_link": true
    },
    "kernelspec": {
      "name": "python3",
      "display_name": "Python 3"
    },
    "language_info": {
      "name": "python"
    }
  },
  "cells": [
    {
      "cell_type": "markdown",
      "metadata": {
        "id": "view-in-github",
        "colab_type": "text"
      },
      "source": [
        "<a href=\"https://colab.research.google.com/github/hamagami/pycaret/blob/main/pycaret_install.ipynb\" target=\"_parent\"><img src=\"https://colab.research.google.com/assets/colab-badge.svg\" alt=\"Open In Colab\"/></a>"
      ]
    },
    {
      "cell_type": "markdown",
      "source": [
        "# PyCaret テスト"
      ],
      "metadata": {
        "id": "Ctigd2zJdS-S"
      }
    },
    {
      "cell_type": "markdown",
      "source": [
        "このノートブックでは，pycaretをインストールする手順を紹介します。\n",
        "google colabであれば 1行でインストールできます。他のライブラリとの関係でエラーが数行でることがありますが，この演習を行う上では問題ないので無視してください。\n",
        "各セルの実行は，セル左上の横向き△のボタンを押すか，セルが選択された状態でShiftキーを押しながらEnterを押すことで実行できます。実行後は自動的に次のセルに移ります。"
      ],
      "metadata": {
        "id": "OdA2nr73dd7x"
      }
    },
    {
      "cell_type": "code",
      "execution_count": null,
      "metadata": {
        "id": "g6V8_ORIdSBk"
      },
      "outputs": [],
      "source": [
        "!pip install -q pycaret"
      ]
    },
    {
      "cell_type": "markdown",
      "source": [
        "pycaret をimport することで　pycaretの様々な機能が使えるようになります。"
      ],
      "metadata": {
        "id": "SDncKV1TewyR"
      }
    },
    {
      "cell_type": "code",
      "source": [
        "import pycaret"
      ],
      "metadata": {
        "id": "SBZyDuuQdsv1"
      },
      "execution_count": null,
      "outputs": []
    },
    {
      "cell_type": "markdown",
      "source": [
        "バージョンの確認をしておきます。3.x.xがでてくれば正常です。"
      ],
      "metadata": {
        "id": "srP72Ip5fg4w"
      }
    },
    {
      "cell_type": "code",
      "source": [
        "print(pycaret.__version__)"
      ],
      "metadata": {
        "colab": {
          "base_uri": "https://localhost:8080/"
        },
        "id": "jTLFgwg8fgil",
        "outputId": "857f5f48-b23f-42d2-ec36-8e2263083625"
      },
      "execution_count": null,
      "outputs": [
        {
          "output_type": "stream",
          "name": "stdout",
          "text": [
            "3.1.0\n"
          ]
        }
      ]
    },
    {
      "cell_type": "markdown",
      "source": [
        "\n",
        "\n",
        "---\n",
        "\n",
        "\n",
        "\n",
        "---\n",
        "\n",
        "\n",
        "# 注意"
      ],
      "metadata": {
        "id": "GZiilg_ogDkp"
      }
    },
    {
      "cell_type": "markdown",
      "source": [
        "上記でインストールしたpycaretは，このノートブックだけで有効です。別のノートブックを開いた場合や，いったんこのノートブックを閉じたあと再度読み込んだ場合はもう１度インストールする必要があります。\n",
        "永続的にpycaretを使うためには，GoogleDriveをマウントしてそこにpycaretをインストールをします。下記のコードを実行することで可能になります。\n",
        "ただし，GoogleDriveへのインストールはやや時間がかかることと，うまく実行できないことがあるため，この演習では簡単のため，ノートブックごとに都度インストールすることにします。"
      ],
      "metadata": {
        "id": "F65LYOK7gFzc"
      }
    },
    {
      "cell_type": "code",
      "source": [
        "# google drive に接続(マウント）します。gmailに確認メールが届くことがあります。\n",
        "from google.colab import drive\n",
        "drive.mount('/content/drive')"
      ],
      "metadata": {
        "id": "0RcVH9EgiWWi"
      },
      "execution_count": null,
      "outputs": []
    },
    {
      "cell_type": "code",
      "source": [
        "# 接続したgoogle driveにpycaret をインストールします。これは１回だけ行えばいいです\n",
        "!pip install --target /content/drive/MyDrive/Colab\\ Notebooks/my-modules pycaret"
      ],
      "metadata": {
        "id": "vdfG8qZjhktz"
      },
      "execution_count": null,
      "outputs": []
    },
    {
      "cell_type": "markdown",
      "source": [
        "既にgoogledriveにインストールが終わっていれば，マウント後，パスを設定することで，googledriveにインストール済のパッケージをimportできるようになります。"
      ],
      "metadata": {
        "id": "yYwsxRv2wcDZ"
      }
    },
    {
      "cell_type": "code",
      "source": [
        "# google drive に接続(マウント）します。\n",
        "from google.colab import drive\n",
        "drive.mount('/content/drive')\n",
        "# pathを設定します\n",
        "import sys\n",
        "sys.path.append('/content/drive/MyDrive/Colab Notebooks/LocalModule')"
      ],
      "metadata": {
        "id": "ZRzw7Zs8wYhQ"
      },
      "execution_count": null,
      "outputs": []
    },
    {
      "cell_type": "code",
      "source": [
        "import pycaret"
      ],
      "metadata": {
        "id": "7kw_1DrWiSA2"
      },
      "execution_count": null,
      "outputs": []
    },
    {
      "cell_type": "code",
      "source": [
        "pycaret.__version__"
      ],
      "metadata": {
        "id": "vPelz7LDvJbO"
      },
      "execution_count": null,
      "outputs": []
    },
    {
      "cell_type": "code",
      "source": [],
      "metadata": {
        "id": "jWMwxVUVv2s9"
      },
      "execution_count": null,
      "outputs": []
    }
  ]
}